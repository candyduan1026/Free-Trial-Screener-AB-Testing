{
 "cells": [
  {
   "cell_type": "markdown",
   "metadata": {},
   "source": [
    "# A/B Testing Analysis: Free Trial Screener "
   ]
  },
  {
   "cell_type": "code",
   "execution_count": 111,
   "metadata": {},
   "outputs": [],
   "source": [
    "import math\n",
    "import pandas as pd\n",
    "from scipy.stats import binom_test "
   ]
  },
  {
   "cell_type": "markdown",
   "metadata": {},
   "source": [
    "## Experiment Overview:\n",
    "At the time of this experiment, Udacity courses currently have two options on the course overview page: \"start free trial\", and \"access course materials\". If the student clicks \"start free trial\", they will be asked to enter their credit card information, and then they will be enrolled in a free trial for the paid version of the course. After 14 days, they will automatically be charged unless they cancel first. If the student clicks \"access course materials\", they will be able to view the videos and take the quizzes for free, but they will not receive coaching support or a verified certificate, and they will not submit their final project for feedback.\n",
    "\n",
    "\n",
    "In the experiment, Udacity tested a change where if the student clicked \"start free trial\", they were asked how much time they had available to devote to the course. If the student indicated 5 or more hours per week, they would be taken through the checkout process as usual. If they indicated fewer than 5 hours per week, a message would appear indicating that Udacity courses usually require a greater time commitment for successful completion, and suggesting that the student might like to access the course materials for free. At this point, the student would have the option to continue enrolling in the free trial, or access the course materials for free instead. This screenshot shows what the experiment looks like.\n",
    "\n",
    "\n",
    "The hypothesis was that this might set clearer expectations for students upfront, thus reducing the number of frustrated students who left the free trial because they didn't have enough time—without significantly reducing the number of students to continue past the free trial and eventually complete the course. If this hypothesis held true, Udacity could improve the overall student experience and improve coaches' capacity to support students who are likely to complete the course.\n",
    "\n",
    "\n",
    "The unit of diversion is a cookie, although if the student enrolls in the free trial, they are tracked by user-id from that point forward. The same user-id cannot enroll in the free trial twice. For users that do not enroll, their user-id is not tracked in the experiment, even if they were signed in when they visited the course overview page.\n",
    "Any place \"unique cookies\" are mentioned, the uniqueness is determined by day. (That is, the same cookie visiting on different days would be counted twice.) User-ids are automatically unique since the site does not allow the same user-id to enroll twice.\n",
    "\n",
    "## Metric Choice\n",
    "* Number of cookies: That is, number of unique cookies to view the course overview page. (dmin=3000)\n",
    "* Number of user-ids: That is, number of users who enroll in the free trial. (dmin=50)\n",
    "* Number of clicks: That is, number of unique cookies to click the \"Start free trial\" button (which happens before the free trial screener is trigger). (dmin=240)\n",
    "* Click-through-probability: That is, number of unique cookies to click the \"Start free trial\" button divided by number of unique cookies to view the course overview page. (dmin=0.01)\n",
    "* Gross conversion: That is, number of user-ids to complete checkout and enroll in the free trial divided by number of unique cookies to click the \"Start free trial\" button. (dmin= 0.01)\n",
    "* Retention: That is, number of user-ids to remain enrolled past the 14-day boundary (and thus make at least one payment) divided by number of user-ids to complete checkout. (dmin=0.01)\n",
    "* Net conversion: That is, number of user-ids to remain enrolled past the 14-day boundary (and thus make at least one payment) divided by the number of unique cookies to click the \"Start free trial\" button. (dmin= 0.0075)\n",
    "\n",
    "Since the free trial screener will only influence the steps at and after enrollment, any metrics related to the steps before enrollment should be invariant.\n",
    "\n",
    "Invariants:\n",
    "* Number of cookies\n",
    "* Number of clicks\n",
    "* Click-through probability\n",
    "\n",
    "Evaluation Metrics:\n",
    "* Gross conversion\n",
    "* Retention\n",
    "* Net conversion"
   ]
  },
  {
   "cell_type": "markdown",
   "metadata": {},
   "source": [
    "### Calculate the Standard Deviation for Evaluation Metrics\n",
    "\n",
    "Whether the person clicks/enrolls or not is a \"Yes\" or \"No\" problem, so it is bernoulli distribution. The formula for the standard deviation of bernoulli distribution is $$SD = \\sqrt{p*(1-p)}$$\n",
    "\n",
    "However, we use the equation below in this project: $$SD = \\sqrt{\\frac{p*(1-p)}{n}}$$"
   ]
  },
  {
   "cell_type": "code",
   "execution_count": 2,
   "metadata": {},
   "outputs": [],
   "source": [
    "n_pageviews=40000 #Unique cookies to view course overview page per day\n",
    "n_clicks=3200 #Unique cookies to click \"Start free trial\" per day\n",
    "n_enroll=660 #Enrollments per day\n",
    "n_sample=5000 # number of cookies visiting the course overview page\n",
    "\n",
    "click_through_probability=0.08 #clicks / pageviews\n",
    "gross_conversion=0.20625 # enroll / click\n",
    "retention=0.53 # payment / enroll\n",
    "net_conversion=0.1093125 # payment / click"
   ]
  },
  {
   "cell_type": "code",
   "execution_count": 11,
   "metadata": {},
   "outputs": [],
   "source": [
    "# calculate the standard deviation\n",
    "\n",
    "se_gross_conversion = round(math.sqrt(gross_conversion*(1-gross_conversion)/(n_clicks/n_pageviews*n_sample)), 4)\n",
    "se_retention = round(math.sqrt(retention*(1-retention)/(n_enroll/n_pageviews*n_sample)), 4)\n",
    "se_net_conversion = round(math.sqrt(net_conversion*(1-net_conversion)/(n_clicks/n_pageviews*n_sample)), 4)"
   ]
  },
  {
   "cell_type": "code",
   "execution_count": 12,
   "metadata": {},
   "outputs": [
    {
     "name": "stdout",
     "output_type": "stream",
     "text": [
      "standard error of gross_conversion is: 0.0202\n",
      "standard error of se_retention is: 0.0549\n",
      "standard error of se_net_conversion is: 0.0156\n"
     ]
    }
   ],
   "source": [
    "print(\"standard error of gross_conversion is: \" + str(se_gross_conversion))\n",
    "print(\"standard error of se_retention is: \" + str(se_retention))\n",
    "print(\"standard error of se_net_conversion is: \" + str(se_net_conversion))"
   ]
  },
  {
   "cell_type": "markdown",
   "metadata": {},
   "source": [
    "### Calculate Sizing of Evaluation Metrics\n",
    "\n",
    "We use the online calculator to calculate the size of samples: https://www.evanmiller.org/ab-testing/sample-size.html#!20;80;5;5;0\n",
    "\n",
    "* Gross conversion:\n",
    "    * Baseline rate: 20.625%\n",
    "    * Minimum Detectable Effect: 0.01\n",
    "    * Sample size: 25,835 clicks/group\n",
    "    * Total sample size: 25,835*2=51670 clicks\n",
    "    * Pageviews= 51670 / 0.08 (clicks / pageviews)=645875\n",
    "\n",
    "* retention:\n",
    "    * Baseline rate: 53%\n",
    "    * Minimum Detectable Effect: 0.01\n",
    "    * Sample size: 39,115 enrolls/group\n",
    "    * Total sample size: 39,115*2=78230 enrolls\n",
    "    * Pageviews= 78230 / (660/40000) (enrolls / pageviews)=4741212\n",
    "\n",
    "* net conversion:\n",
    "    * Baseline rate: 10.93125%\n",
    "    * Minimum Detectable Effect: 0.0075\n",
    "    * Sample size: 27,413 clicks/group\n",
    "    * Total sample size: 27,413*2=54826 clicks\n",
    "    * Pageviews= 54826 / 0.08 (clicks / pageviews)=685325\n",
    "\n",
    "### Calculate the Duration of Running the Experiments\n",
    "Because the retention needs to many pageviews to achive our expectation (alpha = 0.05 and beta = 0.2), we only choose gross conversion and net conversion as our evaluation metrics going forward. 24 days which are less than a month is not too risky for the company to do the expepriment. "
   ]
  },
  {
   "cell_type": "code",
   "execution_count": 28,
   "metadata": {},
   "outputs": [
    {
     "data": {
      "text/plain": [
       "24.475892857142856"
      ]
     },
     "execution_count": 28,
     "metadata": {},
     "output_type": "execute_result"
    }
   ],
   "source": [
    "maximum_pageviews = 685325\n",
    "fraction = 0.7\n",
    "duraction = maximum_pageviews/(fraction*n_pageviews)\n",
    "duraction"
   ]
  },
  {
   "cell_type": "markdown",
   "metadata": {},
   "source": [
    "### Sanity Check for the Invariants\n",
    "\n",
    "Start by checking whether the invariant metrics are equivalent between the two groups. If the invariant metric is a simple count that should be randomly split between the 2 groups, we can use a binomial test. Otherwise, you will need to construct a confidence interval for a difference in proportions, then check whether the difference between group values falls within that confidence level."
   ]
  },
  {
   "cell_type": "code",
   "execution_count": 32,
   "metadata": {},
   "outputs": [],
   "source": [
    "df_control = pd.read_csv(\"Final Project Results - Control.csv\")\n",
    "df_exp = pd.read_csv(\"Final Project Results - Experiment.csv\")"
   ]
  },
  {
   "cell_type": "code",
   "execution_count": 33,
   "metadata": {},
   "outputs": [
    {
     "data": {
      "text/html": [
       "<div>\n",
       "<style scoped>\n",
       "    .dataframe tbody tr th:only-of-type {\n",
       "        vertical-align: middle;\n",
       "    }\n",
       "\n",
       "    .dataframe tbody tr th {\n",
       "        vertical-align: top;\n",
       "    }\n",
       "\n",
       "    .dataframe thead th {\n",
       "        text-align: right;\n",
       "    }\n",
       "</style>\n",
       "<table border=\"1\" class=\"dataframe\">\n",
       "  <thead>\n",
       "    <tr style=\"text-align: right;\">\n",
       "      <th></th>\n",
       "      <th>Date</th>\n",
       "      <th>Pageviews</th>\n",
       "      <th>Clicks</th>\n",
       "      <th>Enrollments</th>\n",
       "      <th>Payments</th>\n",
       "    </tr>\n",
       "  </thead>\n",
       "  <tbody>\n",
       "    <tr>\n",
       "      <th>0</th>\n",
       "      <td>Sat, Oct 11</td>\n",
       "      <td>7723</td>\n",
       "      <td>687</td>\n",
       "      <td>134.0</td>\n",
       "      <td>70.0</td>\n",
       "    </tr>\n",
       "    <tr>\n",
       "      <th>1</th>\n",
       "      <td>Sun, Oct 12</td>\n",
       "      <td>9102</td>\n",
       "      <td>779</td>\n",
       "      <td>147.0</td>\n",
       "      <td>70.0</td>\n",
       "    </tr>\n",
       "    <tr>\n",
       "      <th>2</th>\n",
       "      <td>Mon, Oct 13</td>\n",
       "      <td>10511</td>\n",
       "      <td>909</td>\n",
       "      <td>167.0</td>\n",
       "      <td>95.0</td>\n",
       "    </tr>\n",
       "    <tr>\n",
       "      <th>3</th>\n",
       "      <td>Tue, Oct 14</td>\n",
       "      <td>9871</td>\n",
       "      <td>836</td>\n",
       "      <td>156.0</td>\n",
       "      <td>105.0</td>\n",
       "    </tr>\n",
       "    <tr>\n",
       "      <th>4</th>\n",
       "      <td>Wed, Oct 15</td>\n",
       "      <td>10014</td>\n",
       "      <td>837</td>\n",
       "      <td>163.0</td>\n",
       "      <td>64.0</td>\n",
       "    </tr>\n",
       "  </tbody>\n",
       "</table>\n",
       "</div>"
      ],
      "text/plain": [
       "          Date  Pageviews  Clicks  Enrollments  Payments\n",
       "0  Sat, Oct 11       7723     687        134.0      70.0\n",
       "1  Sun, Oct 12       9102     779        147.0      70.0\n",
       "2  Mon, Oct 13      10511     909        167.0      95.0\n",
       "3  Tue, Oct 14       9871     836        156.0     105.0\n",
       "4  Wed, Oct 15      10014     837        163.0      64.0"
      ]
     },
     "execution_count": 33,
     "metadata": {},
     "output_type": "execute_result"
    }
   ],
   "source": [
    "df_control.head()"
   ]
  },
  {
   "cell_type": "markdown",
   "metadata": {},
   "source": [
    "The observed pageviews is around 0.5006 and falls into the confidence interval and the invariant metric looks good to us."
   ]
  },
  {
   "cell_type": "code",
   "execution_count": 42,
   "metadata": {},
   "outputs": [
    {
     "name": "stdout",
     "output_type": "stream",
     "text": [
      "Confidence Interval for pageviews: [0.4988,0.5012]\n",
      "Observed:  0.5006\n"
     ]
    }
   ],
   "source": [
    "# Pageviews\n",
    "sum_pageviews_con = df_control['Pageviews'].sum()\n",
    "sum_pageviews_exp = df_exp['Pageviews'].sum()\n",
    "prob_of_assign = sum_pageviews_con/(sum_pageviews_con+sum_pageviews_exp)\n",
    "SD_pageviews = math.sqrt(0.5*(1-0.5)/(sum_pageviews_con+sum_pageviews_exp))\n",
    "lower_bound = 0.5 - 1.96*SD_pageviews\n",
    "upper_bound = 0.5 + 1.96*SD_pageviews\n",
    "\n",
    "print(\"Confidence Interval for pageviews: [{},{}]\".format(round(lower_bound,4),round(upper_bound,4)))\n",
    "print(\"Observed: \",round(prob_of_assign,4))"
   ]
  },
  {
   "cell_type": "code",
   "execution_count": 44,
   "metadata": {},
   "outputs": [
    {
     "name": "stdout",
     "output_type": "stream",
     "text": [
      "Confidence Interval for enrollment: [0.4885,0.5115]\n",
      "Observed:  0.5251\n"
     ]
    }
   ],
   "source": [
    "# enrollment\n",
    "sum_enrollment_con = df_control['Enrollments'].sum()\n",
    "sum_enrollment_exp = df_exp['Enrollments'].sum()\n",
    "prob_of_assign = sum_enrollment_con/(sum_enrollment_con+sum_enrollment_exp)\n",
    "SD_enrollment = math.sqrt(0.5*(1-0.5)/(sum_enrollment_con+sum_enrollment_exp))\n",
    "lower_bound = 0.5 - 1.96*SD_enrollment\n",
    "upper_bound = 0.5 + 1.96*SD_enrollment\n",
    "\n",
    "print(\"Confidence Interval for enrollment: [{},{}]\".format(round(lower_bound,4),round(upper_bound,4)))\n",
    "print(\"Observed: \",round(prob_of_assign,4))"
   ]
  },
  {
   "cell_type": "markdown",
   "metadata": {},
   "source": [
    "The observed clicks which is 0.5005 falls into our 95% confidence interval as well."
   ]
  },
  {
   "cell_type": "code",
   "execution_count": 45,
   "metadata": {},
   "outputs": [
    {
     "name": "stdout",
     "output_type": "stream",
     "text": [
      "Confidence Interval for clicks: [0.4959,0.5041]\n",
      "Observed:  0.5005\n"
     ]
    }
   ],
   "source": [
    "# Clicks\n",
    "sum_clicks_con = df_control['Clicks'].sum()\n",
    "sum_clicks_exp = df_exp['Clicks'].sum()\n",
    "prob_of_assign = sum_clicks_con/(sum_clicks_con+sum_clicks_exp)\n",
    "SD_clicks = math.sqrt(0.5*(1-0.5)/(sum_clicks_con+sum_clicks_exp))\n",
    "lower_bound = 0.5 - 1.96*SD_clicks\n",
    "upper_bound = 0.5 + 1.96*SD_clicks\n",
    "\n",
    "print(\"Confidence Interval for clicks: [{},{}]\".format(round(lower_bound,4),round(upper_bound,4)))\n",
    "print(\"Observed: \",round(prob_of_assign,4))"
   ]
  },
  {
   "cell_type": "markdown",
   "metadata": {},
   "source": [
    "The observed click-through-probability is around 0.0001 and falls into our 95% confidence interval as well. We passed all the sanity checks and can start to do the analysis."
   ]
  },
  {
   "cell_type": "code",
   "execution_count": 47,
   "metadata": {},
   "outputs": [
    {
     "name": "stdout",
     "output_type": "stream",
     "text": [
      "Confidence Interval for click-through-probability: [-0.0013,0.0013]\n",
      "Observed:  0.0001\n"
     ]
    }
   ],
   "source": [
    "# Click-through-probability\n",
    "ctp_control = sum_clicks_con/sum_pageviews_con\n",
    "ctp_exp = sum_clicks_exp/sum_pageviews_exp\n",
    "diff_exp = abs(ctp_control-ctp_exp)\n",
    "\n",
    "pool_ctp = (sum_clicks_con+sum_clicks_exp)/(sum_pageviews_con+sum_pageviews_exp)\n",
    "SE_pool = math.sqrt(pool_ctp*(1-pool_ctp)*(1/sum_pageviews_con + 1/sum_pageviews_exp))\n",
    "lower_bound = 0 - 1.96*SE_pool\n",
    "upper_bound = 0 + 1.96*SE_pool\n",
    "\n",
    "print(\"Confidence Interval for click-through-probability: [{},{}]\".format(round(lower_bound,4),round(upper_bound,4)))\n",
    "print(\"Observed: \",round(diff_exp,4))"
   ]
  },
  {
   "cell_type": "markdown",
   "metadata": {},
   "source": [
    "### Effect Size Tests\n",
    "\n",
    "Significance definitions\n",
    "A metric is statistically significant if the confidence interval does not include 0 (that is, you can be confident there was a change), and it is practically significant if the confidence interval does not include the practical significance boundary (that is, you can be confident there is a change that matters to the business.)\n",
    "\n",
    "The Z-Test is a statistical test used to compare the means/proportions from two different populations when the variances are known and the sample size is large(usually above 30 to be considered a normal distribution).\n",
    "\n",
    "The confidence interval is:\n",
    "$$\\mathit{P}_{exp} = \\frac{\\mathit{X}_{exp}}{\\mathit{N}_{exp}}$$\n",
    "$$\\mathit{P}_{con} = \\frac{\\mathit{X}_{con}}{\\mathit{N}_{con}}$$\n",
    "\n",
    "$$\\mathit{Diff} = \\mathit{P}_{exp} - \\mathit{P}_{con}$$\n",
    "\n",
    "$$\\mathit{P}_{pool} = \\frac{\\mathit{X}_{exp} + \\mathit{X}_{con}}{\\mathit{N}_{exp} + \\mathit{N}_{con}}$$\n",
    "$$\\mathit{Pool Standard Deviation} = \\sqrt{\\mathit{P}_{pool}*(1-\\mathit{P}_{pool})*(\\frac{1}{\\mathit{N}_{exp}} + \\frac{1}{\\mathit{N}_{con}})}$$\n",
    "\n",
    "$$ \\mathit{CI} = \\mathit{Diff} \\pm 1.96*\\mathit{Pool Standard Deviation}$$\n",
    "\n",
    "The gross conversion from the experiment is statistically and practically less than the gross conversion in the controlled group. It makes sense because the number of enrollment should be less with the screener. However, the net conversion is not significantly different from the controlled group.\n"
   ]
  },
  {
   "cell_type": "code",
   "execution_count": 83,
   "metadata": {},
   "outputs": [
    {
     "name": "stdout",
     "output_type": "stream",
     "text": [
      "Confidence Interval for gross conversion: [-0.0275,-0.0137]\n",
      "Observed:  -0.0206\n",
      "the difference is statistically and practically significant\n"
     ]
    }
   ],
   "source": [
    "# Gross conversion\n",
    "\n",
    "n = len(df_control) - df_control['Enrollments'].isna().sum() # if it doesn't have enrollment on that day, we don't count the clicks\n",
    "sum_clicks_cont = df_control['Clicks'][:n].sum()\n",
    "sum_clicks_exp = df_exp['Clicks'][:n].sum()\n",
    "gross_conversion_con = sum_enrollment_con/sum_clicks_cont\n",
    "gross_conversion_exp = sum_enrollment_exp/sum_clicks_exp\n",
    "diff_gc_exp = gross_conversion_exp-gross_conversion_con\n",
    "\n",
    "pool_gc = (sum_enrollment_con+sum_enrollment_exp)/(sum_clicks_con+sum_clicks_exp)\n",
    "SE_pool_gc = math.sqrt(pool_gc*(1-pool_gc)*(1/sum_clicks_con + 1/sum_clicks_exp))\n",
    "lower_bound = diff_gc_exp - 1.96*SE_pool_gc\n",
    "upper_bound = diff_gc_exp + 1.96*SE_pool_gc\n",
    "\n",
    "print(\"Confidence Interval for gross conversion: [{},{}]\".format(round(lower_bound,4),round(upper_bound,4)))\n",
    "print(\"Observed: \",round(diff_gc_exp,4))\n",
    "\n",
    "practical_sig_gc = 0.01\n",
    "if 0 < lower_bound or 0 > upper_bound:\n",
    "    if practical_sig_gc < lower_bound or practical_sig_gc > upper_bound:\n",
    "        print(\"the difference is statistically and practically significant\")\n",
    "    else:\n",
    "        print(\"the difference is only statistically significant\")\n",
    "else:\n",
    "    print(\"there is no statistically significant\")"
   ]
  },
  {
   "cell_type": "code",
   "execution_count": 92,
   "metadata": {},
   "outputs": [
    {
     "name": "stdout",
     "output_type": "stream",
     "text": [
      "Confidence Interval for net gross conversion: [-0.0116,0.0019]\n",
      "Observed:  -0.0049\n",
      "there is no statistically significant\n"
     ]
    }
   ],
   "source": [
    "# net conversion\n",
    "n = len(df_control) - df_control['Payments'].isna().sum()\n",
    "sum_payments_con = df_control['Payments'].sum()\n",
    "sum_payments_exp = df_exp['Payments'].sum()\n",
    "sum_clicks_con = df_control['Clicks'][:n].sum()\n",
    "sum_clicks_exp = df_exp['Clicks'][:n].sum()\n",
    "gross__net_conversion_con = sum_payments_con/sum_clicks_con\n",
    "gross_net_conversion_exp = sum_payments_exp/sum_clicks_exp\n",
    "diff_net_gc_exp = gross_net_conversion_exp-gross__net_conversion_con\n",
    "\n",
    "pool_net_gc = (sum_payments_con+sum_payments_exp)/(sum_clicks_con+sum_clicks_exp)\n",
    "SE_pool_net_gc = math.sqrt(pool_net_gc*(1-pool_net_gc)*(1/sum_clicks_con + 1/sum_clicks_exp))\n",
    "lower_bound = diff_net_gc_exp - 1.96*SE_pool_net_gc\n",
    "upper_bound = diff_net_gc_exp + 1.96*SE_pool_net_gc\n",
    "\n",
    "print(\"Confidence Interval for net gross conversion: [{},{}]\".format(round(lower_bound,4),round(upper_bound,4)))\n",
    "print(\"Observed: \",round(diff_net_gc_exp,4))\n",
    "\n",
    "practical_sig_net_gc = 0.0075\n",
    "if 0 < lower_bound or 0 > upper_bound:\n",
    "    if practical_sig_net_gc < lower_bound or practical_sig_net_gc > upper_bound:\n",
    "        print(\"the difference is statistically and practically significant\")\n",
    "    else:\n",
    "        print(\"the difference is only statistically significant\")\n",
    "else:\n",
    "    print(\"there is no statistically significant\")"
   ]
  },
  {
   "cell_type": "markdown",
   "metadata": {},
   "source": [
    "### Sign Tests\n",
    "\n",
    "For each evaluation metric, we do a sign test using the day-by-day breakdown. If the sign test does not agree with the confidence interval for the difference, then figure out the reason.\n",
    "\n",
    "We use binomial test to see if the p_value is less than the alpha. If the p_value is very small, then we can reject the null hypothesis. Both test results agree with the effect size tests."
   ]
  },
  {
   "cell_type": "code",
   "execution_count": 103,
   "metadata": {},
   "outputs": [],
   "source": [
    "df_exp['Pageviews_sign'] = df_exp['Pageviews'] - df_control['Pageviews']\n",
    "df_exp['Clicks_sign'] = df_exp['Clicks'] - df_control['Clicks']\n",
    "df_exp['Enrollments_sign'] = df_exp['Enrollments'] - df_control['Enrollments']\n",
    "df_exp['GC_sign']= df_exp['Enrollments']/df_exp['Clicks'] - df_control['Enrollments']/df_control['Clicks']\n",
    "df_exp['NC_sign'] = df_exp['Payments']/df_exp['Clicks'] - df_control['Payments']/df_control['Clicks']"
   ]
  },
  {
   "cell_type": "code",
   "execution_count": 114,
   "metadata": {},
   "outputs": [
    {
     "name": "stdout",
     "output_type": "stream",
     "text": [
      "p-value of gross conversion is: 0.0025994777679443364 Statistically Significant: True\n",
      "p-value of net conversion is: 0.6776394844055175 Statistically Significant: False\n"
     ]
    }
   ],
   "source": [
    "# what is the probability that the positive change in the experiment is happen by chance? Use binomial distribution\n",
    "days = len(df_exp) - df_exp['GC_sign'].isna().sum()\n",
    "n_positive_change_gc = df_exp[df_exp['GC_sign'] > 0]['GC_sign'].count()\n",
    "n_positive_change_nc = df_exp[df_exp['NC_sign'] > 0]['NC_sign'].count()\n",
    "\n",
    "# the chance that the gross conversion in the experiment is higher than the gc in the control group is 0.5\n",
    "p_value_gc=binom_test(n_positive_change_gc, n=days, p=0.5)\n",
    "print(\"p-value of gross conversion is:\",p_value_gc,\"Statistically Significant:\",p_value_gc<0.05)\n",
    "\n",
    "p_value_nc=binom_test(n_positive_change_nc, n=days, p=0.5)\n",
    "print(\"p-value of net conversion is:\",p_value_nc,\"Statistically Significant:\",p_value_nc<0.05)\n"
   ]
  },
  {
   "cell_type": "markdown",
   "metadata": {},
   "source": [
    "### Recommendation\n",
    "\n",
    "The number of user-ids would be lower in the experiment group, but what does it measure? The user-id can be divided into two groups: students with less than 5 hours and students with more than 5 hours. When the first group see the screener, they may be discouraged and therefore will not choose to enroll the course. This group can be labeld as \"frustrated students\". The second group is really determinant and have more time on the course, so they can be \"resolute students\". The screener wants to reduce the number of \"frustrated students\" who might quit before the course ends but doesn't want to reduce the number of \"resolute students\". The gross conversion measures the frustrated portion and the net conversion measures the resolute students. As we expected, the gross conversion in the experiment group shows statistically signicant difference than the gross conversion in the controlled group. Also, the net conversion doesn't have statistically difference. Therefore, we would recommend lunch the product. "
   ]
  },
  {
   "cell_type": "code",
   "execution_count": null,
   "metadata": {},
   "outputs": [],
   "source": []
  }
 ],
 "metadata": {
  "kernelspec": {
   "display_name": "Python 3",
   "language": "python",
   "name": "python3"
  },
  "language_info": {
   "codemirror_mode": {
    "name": "ipython",
    "version": 3
   },
   "file_extension": ".py",
   "mimetype": "text/x-python",
   "name": "python",
   "nbconvert_exporter": "python",
   "pygments_lexer": "ipython3",
   "version": "3.8.3"
  }
 },
 "nbformat": 4,
 "nbformat_minor": 4
}
